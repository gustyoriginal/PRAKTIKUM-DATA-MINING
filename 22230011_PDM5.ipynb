{
 "cells": [
  {
   "cell_type": "code",
   "execution_count": 2,
   "id": "5e0f0856-1d26-4ad9-be81-b72461b7c570",
   "metadata": {},
   "outputs": [
    {
     "name": "stdout",
     "output_type": "stream",
     "text": [
      "Requirement already satisfied: requests in c:\\users\\asus\\anaconda3\\lib\\site-packages (2.32.3)\n",
      "Requirement already satisfied: pandas in c:\\users\\asus\\anaconda3\\lib\\site-packages (2.2.2)\n",
      "Requirement already satisfied: charset-normalizer<4,>=2 in c:\\users\\asus\\anaconda3\\lib\\site-packages (from requests) (3.3.2)\n",
      "Requirement already satisfied: idna<4,>=2.5 in c:\\users\\asus\\anaconda3\\lib\\site-packages (from requests) (3.7)\n",
      "Requirement already satisfied: urllib3<3,>=1.21.1 in c:\\users\\asus\\anaconda3\\lib\\site-packages (from requests) (2.2.3)\n",
      "Requirement already satisfied: certifi>=2017.4.17 in c:\\users\\asus\\anaconda3\\lib\\site-packages (from requests) (2025.1.31)\n",
      "Requirement already satisfied: numpy>=1.26.0 in c:\\users\\asus\\anaconda3\\lib\\site-packages (from pandas) (1.26.4)\n",
      "Requirement already satisfied: python-dateutil>=2.8.2 in c:\\users\\asus\\anaconda3\\lib\\site-packages (from pandas) (2.9.0.post0)\n",
      "Requirement already satisfied: pytz>=2020.1 in c:\\users\\asus\\anaconda3\\lib\\site-packages (from pandas) (2024.1)\n",
      "Requirement already satisfied: tzdata>=2022.7 in c:\\users\\asus\\anaconda3\\lib\\site-packages (from pandas) (2023.3)\n",
      "Requirement already satisfied: six>=1.5 in c:\\users\\asus\\anaconda3\\lib\\site-packages (from python-dateutil>=2.8.2->pandas) (1.16.0)\n"
     ]
    }
   ],
   "source": [
    "!pip install requests pandas\n"
   ]
  },
  {
   "cell_type": "code",
   "execution_count": 4,
   "id": "026f9c27-a097-4ec2-8e24-bc653cf51ef0",
   "metadata": {},
   "outputs": [
    {
     "name": "stdout",
     "output_type": "stream",
     "text": [
      "Sukses! Data disimpan di hasil_crawling_twitter.csv\n"
     ]
    }
   ],
   "source": [
    "import requests\n",
    "import json\n",
    "import pandas as pd\n",
    "\n",
    "BEARER_TOKEN = 'AAAAAAAAAAAAAAAAAAAAAHd60gEAAAAAVKApYdIA8yIX3l74XHlR34ggUXU%3DrWLacZ4iMyhIErejEeaiPKjQmIQmaqnuq5IlainWc1rB8tC10b'\n",
    "\n",
    "query = 'liga inggris'\n",
    "\n",
    "search_url = \"https://api.twitter.com/2/tweets/search/recent\"\n",
    "\n",
    "query_params = {\n",
    "    'query': query,\n",
    "    'max_results': 50,  \n",
    "    'tweet.fields': 'author_id,created_at,public_metrics',\n",
    "    'expansions': 'author_id',\n",
    "    'user.fields': 'username',\n",
    "}\n",
    "\n",
    "headers = {\n",
    "    'Authorization': f'Bearer {BEARER_TOKEN}',\n",
    "    'User-Agent': 'v2RecentSearchPython'\n",
    "}\n",
    "\n",
    "def connect_to_endpoint(url, headers, params):\n",
    "    response = requests.get(url, headers=headers, params=params)\n",
    "    if response.status_code != 200:\n",
    "        raise Exception(f\"Request gagal: {response.status_code}, {response.text}\")\n",
    "    return response.json()\n",
    "\n",
    "json_response = connect_to_endpoint(search_url, headers, query_params)\n",
    "\n",
    "tweets_data = []\n",
    "for tweet in json_response['data']:\n",
    "    tweets_data.append({\n",
    "        'Tweet ID': tweet['id'],\n",
    "        'Author ID': tweet['author_id'],\n",
    "        'Tanggal': tweet['created_at'],\n",
    "        'Isi Tweet': tweet['text'],\n",
    "        'Retweet Count': tweet['public_metrics']['retweet_count'],\n",
    "        'Reply Count': tweet['public_metrics']['reply_count'],\n",
    "        'Like Count': tweet['public_metrics']['like_count'],\n",
    "        'Quote Count': tweet['public_metrics']['quote_count'],\n",
    "    })\n",
    "\n",
    "df = pd.DataFrame(tweets_data)\n",
    "df.to_csv('kelompok1_222300011.csv', index=False)\n",
    "print(\"Sukses! Data disimpan di hasil_crawling_twitter.csv\")"
   ]
  },
  {
   "cell_type": "code",
   "execution_count": null,
   "id": "7b602ebf-eb82-4944-ab94-bab56e4b9d24",
   "metadata": {},
   "outputs": [],
   "source": []
  }
 ],
 "metadata": {
  "kernelspec": {
   "display_name": "Python [conda env:base] *",
   "language": "python",
   "name": "conda-base-py"
  },
  "language_info": {
   "codemirror_mode": {
    "name": "ipython",
    "version": 3
   },
   "file_extension": ".py",
   "mimetype": "text/x-python",
   "name": "python",
   "nbconvert_exporter": "python",
   "pygments_lexer": "ipython3",
   "version": "3.12.7"
  }
 },
 "nbformat": 4,
 "nbformat_minor": 5
}
